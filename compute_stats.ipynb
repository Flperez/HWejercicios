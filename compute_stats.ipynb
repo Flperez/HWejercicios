{
 "cells": [
  {
   "cell_type": "code",
   "execution_count": 1,
   "metadata": {},
   "outputs": [],
   "source": [
    "import numpy as np\n",
    "import matplotlib.pyplot as plt\n"
   ]
  },
  {
   "cell_type": "markdown",
   "metadata": {},
   "source": [
    "### Funcion calcula_graph\n",
    "#### Funcion encargada de devolver un array ordenado con el porcentaje"
   ]
  },
  {
   "cell_type": "code",
   "execution_count": 2,
   "metadata": {},
   "outputs": [],
   "source": [
    "def calcula_graph(result, indice, rango):\n",
    "\n",
    "    # Ordenamos con la funcion np.digitalize\n",
    "    #     https://stackoverflow.com/questions/17413624/how-to-organize-values-in-a-numpy-array-into-bins-that-contain-a-certain-range-o\n",
    "\n",
    "    binplace = np.digitize(result[:,indice], rango)\n",
    "\n",
    "    # Calculamos el numero de errores\n",
    "    #    https://stackoverflow.com/questions/21778118/counting-the-number-of-non-nan-elements-in-a-numpy-ndarray-matrix-in-python\n",
    "    error = np.isnan(result[:, indice])[np.isnan(result[:, indice]) == True].size\n",
    "\n",
    "    #Una vez ordenados se cuentan el numero de veces repetido\n",
    "    num = np.array([np.count_nonzero(binplace==i) for i in range(0,len(rango)+1)])\n",
    "\n",
    "    #Se ordena dado que NaN queda ordenado como un elemento del ultimo de la lista de rangos\n",
    "    num[0] = error\n",
    "    num[len(rango)] -= error\n",
    "\n",
    "    #Expresamos el vector en tanto por ciento\n",
    "    num = (1 / len(result)) * 100 * num\n",
    "    return num\n"
   ]
  },
  {
   "cell_type": "code",
   "execution_count": 3,
   "metadata": {},
   "outputs": [],
   "source": [
    "#Introducir las rutas manualmente\n",
    "\n",
    "## Ruta al archivo de deteccion\n",
    "path_detection = \"/home/f/MEGAsync/Herramientas_SW/ejercicios/ejercicio_3/RecognitionStats/detection.csv\"\n",
    "## Ruta al archivo de droundtruth.\n",
    "path_groundtruth = \"/home/f/MEGAsync/Herramientas_SW/ejercicios/ejercicio_3/RecognitionStats/groundtruth.csv\"\n",
    "## Ruta al directorio de salida\n",
    "path_out = \"/home/f/MEGAsync/Herramientas_SW/ejercicios/ejercicio_3/RecognitionStats\""
   ]
  },
  {
   "cell_type": "markdown",
   "metadata": {},
   "source": [
    "# ----------------------------\n",
    "# Main\n",
    "# ----------------------------"
   ]
  },
  {
   "cell_type": "code",
   "execution_count": 4,
   "metadata": {},
   "outputs": [],
   "source": [
    "if __name__ == \"__main__\":\n",
    "    #Lectura de ficheros\n",
    "\n",
    "    groundtruth = np.genfromtxt(fname=path_groundtruth, delimiter=',', skip_header=1, missing_values='-')\n",
    "    detection = np.genfromtxt(fname=path_detection, delimiter=',', skip_header=1, missing_values='-')\n",
    "    # np.array del resultado de la diferencia\n",
    "    result = abs(groundtruth-detection)\n",
    "\n",
    "    # Calculo de los vectores \n",
    "    ## Rangos\n",
    "    rango_areas =  0,50,100,150,200,250\n",
    "    rango_complexity = 0,1,2,3,4\n",
    "    ## vectores\n",
    "    area2D = calcula_graph(result,indice=1,rango=rango_areas)\n",
    "    area3D = calcula_graph(result,indice=2,rango=rango_areas)\n",
    "    complexity = calcula_graph(result,indice=3,rango=rango_complexity)\n"
   ]
  },
  {
   "cell_type": "markdown",
   "metadata": {},
   "source": [
    "### Visualizacion de datos"
   ]
  },
  {
   "cell_type": "code",
   "execution_count": 5,
   "metadata": {},
   "outputs": [
    {
     "data": {
      "image/png": "[encoded data removed]",
      "text/plain": [
       "<matplotlib.figure.Figure at 0x7fcaae462c88>"
      ]
     },
     "metadata": {},
     "output_type": "display_data"
    },
    {
     "data": {
      "image/png": "[encoded data removed]",
      "text/plain": [
       "<matplotlib.figure.Figure at 0x7fcaae462cc0>"
      ]
     },
     "metadata": {},
     "output_type": "display_data"
    },
    {
     "data": {
      "image/png": "[encoded data removed]",
      "text/plain": [
       "<matplotlib.figure.Figure at 0x7fcaae48dd30>"
      ]
     },
     "metadata": {},
     "output_type": "display_data"
    }
   ],
   "source": [
    "\n",
    "#Figure area2d\n",
    "N = 7\n",
    "ind = np.arange(N)\n",
    "\n",
    "\n",
    "fig, ax = plt.subplots()\n",
    "plt.ylim(0,100)\n",
    "rects = ax.bar(ind, area2D, 0.75, color='r')\n",
    "rects[0].set_color('k')\n",
    "ax.set_xticklabels(('[0]', 'error', '[0-50)', '[50-100)', '[100-150)', '[150-200)', '[200-250)', '>250'))\n",
    "plt.xlabel('Squared feet error' )\n",
    "plt.ylabel('Percentage of blueprints')\n",
    "plt.title('Area2D' )\n",
    "fig.savefig(path_out+\"/area2d.png\")\n",
    "plt.show()\n",
    "\n",
    "#Figure area3d\n",
    "fig, ax = plt.subplots()\n",
    "plt.ylim(0,100)\n",
    "rects = ax.bar(ind, area3D, 0.75, color='r')\n",
    "rects[0].set_color('k')\n",
    "ax.set_xticklabels(('[0]', 'error', '[0-50)', '[50-100)', '[100-150)', '[150-200)', '[200-250)', '>250'))\n",
    "plt.xlabel('Squared feet error')\n",
    "plt.ylabel('Percentage of blueprints')\n",
    "plt.title('Area3D')\n",
    "fig.savefig(path_out+\"/area3d.png\")\n",
    "plt.show()\n",
    "\n",
    "\n",
    "# Figure complexity\n",
    "N = 6\n",
    "ind = np.arange(N)\n",
    "\n",
    "\n",
    "fig, ax = plt.subplots()\n",
    "plt.ylim(0,100)\n",
    "rects = ax.bar(ind, complexity, 0.75, color='r')\n",
    "rects[0].set_color('k')\n",
    "ax.set_xticklabels(('[0]', 'error', '0', '1', '2', '3', '>4'))\n",
    "plt.xlabel('Squared feet error')\n",
    "plt.ylabel('Percentage of blueprints')\n",
    "plt.title('Complexity')\n",
    "fig.savefig(path_out+\"/complexity.png\")\n",
    "plt.show()\n",
    "\n",
    "\n"
   ]
  },
  {
   "cell_type": "code",
   "execution_count": null,
   "metadata": {},
   "outputs": [],
   "source": []
  }
 ],
 "metadata": {
  "kernelspec": {
   "display_name": "jupyter_cv__python3",
   "language": "python",
   "name": "jupyter_cv__python3"
  },
  "language_info": {
   "codemirror_mode": {
    "name": "ipython",
    "version": 3
   },
   "file_extension": ".py",
   "mimetype": "text/x-python",
   "name": "python",
   "nbconvert_exporter": "python",
   "pygments_lexer": "ipython3",
   "version": "3.5.2"
  }
 },
 "nbformat": 4,
 "nbformat_minor": 2
}
